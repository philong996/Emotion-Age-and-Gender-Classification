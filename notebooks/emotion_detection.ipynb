{
  "nbformat": 4,
  "nbformat_minor": 0,
  "metadata": {
    "colab": {
      "name": "FER2013.ipynb",
      "provenance": []
    },
    "kernelspec": {
      "name": "python3",
      "display_name": "Python 3"
    },
    "accelerator": "GPU"
  },
  "cells": [
    {
      "cell_type": "code",
      "metadata": {
        "id": "0m_h6XIvW8nr",
        "colab_type": "code",
        "colab": {
          "base_uri": "https://localhost:8080/",
          "height": 34
        },
        "outputId": "7af5ef37-c98c-479f-9ab0-b967ef46248d"
      },
      "source": [
        "from __future__ import absolute_import, division, print_function, unicode_literals\n",
        "\n",
        "# Install TensorFlow\n",
        "try:\n",
        "  # %tensorflow_version only exists in Colab.\n",
        "  %tensorflow_version 2.x\n",
        "except Exception:\n",
        "  pass\n"
      ],
      "execution_count": 1,
      "outputs": [
        {
          "output_type": "stream",
          "text": [
            "TensorFlow 2.x selected.\n"
          ],
          "name": "stdout"
        }
      ]
    },
    {
      "cell_type": "code",
      "metadata": {
        "id": "8Jt04PdAWllk",
        "colab_type": "code",
        "colab": {
          "base_uri": "https://localhost:8080/",
          "height": 34
        },
        "outputId": "218b8eb6-8708-4a26-cdcf-3d04a96599ce"
      },
      "source": [
        "import tensorflow as tf\n",
        "import keras\n",
        "# from keras.preprocessing.image import ImageDataGenerator\n",
        "\n",
        "from tensorflow.keras.layers import Dense, Dropout, Flatten, Conv2D, MaxPooling2D, Input, BatchNormalization, GlobalAveragePooling2D, AveragePooling2D\n",
        "from tensorflow.keras.preprocessing.image import ImageDataGenerator\n",
        "from tensorflow.keras.models import Model\n",
        "from tensorflow.keras.applications.mobilenet import MobileNet, preprocess_input\n",
        "\n",
        "import numpy as np\n",
        "import matplotlib.pyplot as plt"
      ],
      "execution_count": 2,
      "outputs": [
        {
          "output_type": "stream",
          "text": [
            "Using TensorFlow backend.\n"
          ],
          "name": "stderr"
        }
      ]
    },
    {
      "cell_type": "code",
      "metadata": {
        "id": "0Gl2u7b-WwPl",
        "colab_type": "code",
        "colab": {}
      },
      "source": [
        "#cpu - gpu configuration\n",
        "config = tf.ConfigProto( device_count = {'GPU': 0 , 'CPU': 56} ) #max: 1 gpu, 56 cpu\n",
        "sess = tf.Session(config=config) \n",
        "keras.backend.set_session(sess)"
      ],
      "execution_count": 0,
      "outputs": []
    },
    {
      "cell_type": "code",
      "metadata": {
        "id": "zyvqCOl8W1Bu",
        "colab_type": "code",
        "colab": {}
      },
      "source": [
        "#variables\n",
        "num_classes = 7 #angry, disgust, fear, happy, sad, surprise, neutral\n",
        "batch_size = 32\n",
        "epochs = 20"
      ],
      "execution_count": 0,
      "outputs": []
    },
    {
      "cell_type": "code",
      "metadata": {
        "id": "-zFrkedSXbc0",
        "colab_type": "code",
        "colab": {
          "base_uri": "https://localhost:8080/",
          "height": 122
        },
        "outputId": "35007b2e-da60-4695-eb2b-7b101b8d81cf"
      },
      "source": [
        "from google.colab import drive\n",
        "drive.mount('/content/gdrive')"
      ],
      "execution_count": 4,
      "outputs": [
        {
          "output_type": "stream",
          "text": [
            "Go to this URL in a browser: https://accounts.google.com/o/oauth2/auth?client_id=947318989803-6bn6qk8qdgf4n4g3pfee6491hc0brc4i.apps.googleusercontent.com&redirect_uri=urn%3aietf%3awg%3aoauth%3a2.0%3aoob&response_type=code&scope=email%20https%3a%2f%2fwww.googleapis.com%2fauth%2fdocs.test%20https%3a%2f%2fwww.googleapis.com%2fauth%2fdrive%20https%3a%2f%2fwww.googleapis.com%2fauth%2fdrive.photos.readonly%20https%3a%2f%2fwww.googleapis.com%2fauth%2fpeopleapi.readonly\n",
            "\n",
            "Enter your authorization code:\n",
            "··········\n",
            "Mounted at /content/gdrive\n"
          ],
          "name": "stdout"
        }
      ]
    },
    {
      "cell_type": "markdown",
      "metadata": {
        "id": "YrgyqnCPrgZT",
        "colab_type": "text"
      },
      "source": [
        "## Processing dataset"
      ]
    },
    {
      "cell_type": "code",
      "metadata": {
        "id": "xIzqB8RxXMjA",
        "colab_type": "code",
        "colab": {
          "base_uri": "https://localhost:8080/",
          "height": 51
        },
        "outputId": "1adfbb84-4d49-4430-8251-ca289e465b06"
      },
      "source": [
        "#read kaggle facial expression recognition challenge dataset (fer2013.csv)\n",
        "#https://www.kaggle.com/c/challenges-in-representation-learning-facial-expression-recognition-challenge\n",
        "\n",
        "with open(\"/content/gdrive/My Drive/WeekSeven/fer2013.csv\") as f:\n",
        "    content = f.readlines()\n",
        "\n",
        "lines = np.array(content)\n",
        "\n",
        "num_of_instances = lines.size\n",
        "print(\"number of instances: \",num_of_instances)\n",
        "print(\"instance length: \",len(lines[1].split(\",\")[1].split(\" \")))"
      ],
      "execution_count": 5,
      "outputs": [
        {
          "output_type": "stream",
          "text": [
            "number of instances:  35888\n",
            "instance length:  2304\n"
          ],
          "name": "stdout"
        }
      ]
    },
    {
      "cell_type": "code",
      "metadata": {
        "id": "f-SYK914X1ki",
        "colab_type": "code",
        "colab": {}
      },
      "source": [
        "#initialize trainset and test set\n",
        "x_train, y_train, x_test, y_test = [], [], [], []"
      ],
      "execution_count": 0,
      "outputs": []
    },
    {
      "cell_type": "code",
      "metadata": {
        "id": "fweS8oI5X_uY",
        "colab_type": "code",
        "colab": {}
      },
      "source": [
        "#transfer train and test set data\n",
        "for i in range(1,num_of_instances):\n",
        "    try:\n",
        "        emotion, img, usage = lines[i].split(\",\")\n",
        "          \n",
        "        val = img.split(\" \")\n",
        "            \n",
        "        pixels = np.array(val, 'float32')\n",
        "        \n",
        "        emotion = keras.utils.to_categorical(emotion, num_classes)\n",
        "    \n",
        "        if 'Training' in usage:\n",
        "            y_train.append(emotion)\n",
        "            x_train.append(pixels)\n",
        "        elif 'PublicTest' in usage:\n",
        "            y_test.append(emotion)\n",
        "            x_test.append(pixels)\n",
        "    except:\n",
        "\t      print(\"\",end=\"\")\n"
      ],
      "execution_count": 0,
      "outputs": []
    },
    {
      "cell_type": "code",
      "metadata": {
        "id": "ziaBFjxAYDaQ",
        "colab_type": "code",
        "colab": {
          "base_uri": "https://localhost:8080/",
          "height": 51
        },
        "outputId": "d5e44aac-4532-4ede-cd4c-acf9743f06e4"
      },
      "source": [
        "#data transformation for train and test sets\n",
        "x_train = np.array(x_train, 'float32')\n",
        "y_train = np.array(y_train, 'float32')\n",
        "x_test = np.array(x_test, 'float32')\n",
        "y_test = np.array(y_test, 'float32')\n",
        "\n",
        "x_train /= 255 #normalize inputs between [0, 1]\n",
        "x_test /= 255\n",
        "\n",
        "x_train = x_train.reshape(x_train.shape[0], 48, 48, 1)\n",
        "x_train = x_train.astype('float32')\n",
        "x_test = x_test.reshape(x_test.shape[0], 48, 48, 1)\n",
        "x_test = x_test.astype('float32')\n",
        "\n",
        "print(x_train.shape[0], 'train samples')\n",
        "print(x_test.shape[0], 'test samples')"
      ],
      "execution_count": 8,
      "outputs": [
        {
          "output_type": "stream",
          "text": [
            "28709 train samples\n",
            "3589 test samples\n"
          ],
          "name": "stdout"
        }
      ]
    },
    {
      "cell_type": "code",
      "metadata": {
        "id": "7cuwH0tfiioJ",
        "colab_type": "code",
        "colab": {
          "base_uri": "https://localhost:8080/",
          "height": 34
        },
        "outputId": "ab346b92-4421-40b4-d88a-6d4d476f4d4a"
      },
      "source": [
        "# Convert from 7 columns to 1 column\n",
        "Y_train, Y_test = [], []\n",
        "for i in range(y_train.shape[0]):\n",
        "  for j in range(7):\n",
        "    if 1 == y_train[i][j]:\n",
        "      Y_train.append(j)\n",
        "\n",
        "for i in range(y_test.shape[0]):\n",
        "  for j in range(7):\n",
        "    if 1 == y_test[i][j]:\n",
        "      Y_test.append(j)  \n",
        "\n",
        "Y_train = np.array(Y_train, 'float32')\n",
        "Y_test = np.array(Y_test, 'float32')\n",
        "Y_test.shape, Y_train.shape, Y_train[51], Y_test[101]  "
      ],
      "execution_count": 9,
      "outputs": [
        {
          "output_type": "execute_result",
          "data": {
            "text/plain": [
              "((3589,), (28709,), 5.0, 6.0)"
            ]
          },
          "metadata": {
            "tags": []
          },
          "execution_count": 9
        }
      ]
    },
    {
      "cell_type": "code",
      "metadata": {
        "id": "48W0w5UvDoW0",
        "colab_type": "code",
        "colab": {}
      },
      "source": [
        "#construct CNN structure\n",
        "def CNNd():\n",
        "    model = tf.keras.models.Sequential([\n",
        "            #1st convolution layer\n",
        "            Conv2D(64, (5, 5), activation='relu', input_shape=(48,48,1),padding='same'),\n",
        "            MaxPooling2D(pool_size=(5,5), strides=(2, 2)),\n",
        "            BatchNormalization(),\n",
        "\n",
        "            #2nd convolution layer\n",
        "            Conv2D(128, (3, 3), activation='relu',padding='same'),\n",
        "            Conv2D(128, (3, 3), activation='relu',padding='same'),\n",
        "            AveragePooling2D(pool_size=(3,3), strides=(2, 2)),\n",
        "            BatchNormalization(),\n",
        "\n",
        "            #3rd convolution layer\n",
        "            Conv2D(256, (3, 3), activation='relu',padding='same'),\n",
        "            Conv2D(256, (3, 3), activation='relu',padding='same'),\n",
        "            AveragePooling2D(pool_size=(3,3), strides=(2, 2)),\n",
        "            BatchNormalization(),\n",
        "\n",
        "            #4th convolution layer\n",
        "            Conv2D(512, (3, 3), activation='relu',padding='same'),\n",
        "            Conv2D(512, (3, 3), activation='relu',padding='same'),\n",
        "            AveragePooling2D(pool_size=(3,3), strides=(2, 2)),\n",
        "            BatchNormalization(),\n",
        "\n",
        "            Flatten(),\n",
        "\n",
        "            #fully connected neural networks\n",
        "            Dense(4096, activation='relu'),\n",
        "            Dropout(0.2),\n",
        "            BatchNormalization(),\n",
        "\n",
        "            Dense(1024, activation='relu'),\n",
        "            Dropout(0.2),\n",
        "            BatchNormalization(),\n",
        "\n",
        "            Dense(num_classes, activation='softmax'),\n",
        "            ])\n",
        "    return model\n",
        "\n",
        "modeld = CNNd()"
      ],
      "execution_count": 0,
      "outputs": []
    },
    {
      "cell_type": "code",
      "metadata": {
        "id": "zrvvkMjyZCW1",
        "colab_type": "code",
        "colab": {}
      },
      "source": [
        "#ImageDataGenerator for train\n",
        "import math\n",
        "\n",
        "gen = ImageDataGenerator()\n",
        "train_generator = gen.flow(x_train, Y_train, batch_size=batch_size,shuffle=True)\n",
        "test_generator = gen.flow(x_test, Y_test, batch_size=batch_size,shuffle=True)\n",
        "\n",
        "num_steps_train = math.ceil(float(x_train.shape[0])/batch_size)\n",
        "num_steps_val = math.ceil(float(x_test.shape[0])/batch_size)"
      ],
      "execution_count": 0,
      "outputs": []
    },
    {
      "cell_type": "code",
      "metadata": {
        "id": "wLNSyub7dBmU",
        "colab_type": "code",
        "colab": {}
      },
      "source": [
        "#Compile model\n",
        "modeld.compile(optimizer=tf.keras.optimizers.Adam(),\n",
        "              loss='sparse_categorical_crossentropy',\n",
        "              metrics=['accuracy'])"
      ],
      "execution_count": 0,
      "outputs": []
    },
    {
      "cell_type": "code",
      "metadata": {
        "id": "yTE7BW4VdH3b",
        "colab_type": "code",
        "colab": {
          "base_uri": "https://localhost:8080/",
          "height": 1000
        },
        "outputId": "1c60e19c-2018-44e5-c3f0-0967d8f69a12"
      },
      "source": [
        "#Fit model or load weights\n",
        "fit = True\n",
        "\n",
        "if fit == True:\n",
        "\t#model.fit_generator(x_train, y_train, epochs=epochs) #train for all trainset\n",
        "\tmodeld.fit(train_generator, steps_per_epoch=num_steps_train, epochs=25, validation_data=test_generator, validation_steps=num_steps_val) #train for randomly selected one\n",
        "else:\n",
        "\tmodeld.load_weights('/data/facial_expression_model_weights.h5') #load weights"
      ],
      "execution_count": 20,
      "outputs": [
        {
          "output_type": "stream",
          "text": [
            "WARNING:tensorflow:sample_weight modes were coerced from\n",
            "  ...\n",
            "    to  \n",
            "  ['...']\n",
            "WARNING:tensorflow:sample_weight modes were coerced from\n",
            "  ...\n",
            "    to  \n",
            "  ['...']\n",
            "Train for 898 steps, validate for 113 steps\n",
            "Epoch 1/25\n",
            "898/898 [==============================] - 15s 16ms/step - loss: 2.0181 - accuracy: 0.2237 - val_loss: 1.8409 - val_accuracy: 0.2405\n",
            "Epoch 2/25\n",
            "898/898 [==============================] - 13s 14ms/step - loss: 1.8199 - accuracy: 0.2795 - val_loss: 1.8683 - val_accuracy: 0.2767\n",
            "Epoch 3/25\n",
            "898/898 [==============================] - 13s 14ms/step - loss: 1.6217 - accuracy: 0.3735 - val_loss: 2.1803 - val_accuracy: 0.2697\n",
            "Epoch 4/25\n",
            "898/898 [==============================] - 13s 14ms/step - loss: 1.4082 - accuracy: 0.4631 - val_loss: 1.4344 - val_accuracy: 0.4416\n",
            "Epoch 5/25\n",
            "898/898 [==============================] - 13s 14ms/step - loss: 1.2734 - accuracy: 0.5134 - val_loss: 1.3369 - val_accuracy: 0.4976\n",
            "Epoch 6/25\n",
            "898/898 [==============================] - 13s 14ms/step - loss: 1.1993 - accuracy: 0.5500 - val_loss: 1.2737 - val_accuracy: 0.5099\n",
            "Epoch 7/25\n",
            "898/898 [==============================] - 13s 14ms/step - loss: 1.1396 - accuracy: 0.5727 - val_loss: 1.2500 - val_accuracy: 0.5143\n",
            "Epoch 8/25\n",
            "898/898 [==============================] - 13s 14ms/step - loss: 1.0764 - accuracy: 0.5985 - val_loss: 1.2910 - val_accuracy: 0.5146\n",
            "Epoch 9/25\n",
            "898/898 [==============================] - 13s 14ms/step - loss: 1.0058 - accuracy: 0.6257 - val_loss: 1.1185 - val_accuracy: 0.5882\n",
            "Epoch 10/25\n",
            "898/898 [==============================] - 13s 14ms/step - loss: 0.9434 - accuracy: 0.6492 - val_loss: 1.2492 - val_accuracy: 0.5478\n",
            "Epoch 11/25\n",
            "898/898 [==============================] - 13s 14ms/step - loss: 0.8555 - accuracy: 0.6881 - val_loss: 1.1765 - val_accuracy: 0.5734\n",
            "Epoch 12/25\n",
            "898/898 [==============================] - 13s 14ms/step - loss: 0.7637 - accuracy: 0.7194 - val_loss: 1.5200 - val_accuracy: 0.4656\n",
            "Epoch 13/25\n",
            "898/898 [==============================] - 13s 14ms/step - loss: 0.6563 - accuracy: 0.7596 - val_loss: 1.2423 - val_accuracy: 0.5773\n",
            "Epoch 14/25\n",
            "898/898 [==============================] - 13s 14ms/step - loss: 0.5504 - accuracy: 0.8008 - val_loss: 1.2989 - val_accuracy: 0.5965\n",
            "Epoch 15/25\n",
            "898/898 [==============================] - 13s 14ms/step - loss: 0.4385 - accuracy: 0.8433 - val_loss: 1.4584 - val_accuracy: 0.5926\n",
            "Epoch 16/25\n",
            "898/898 [==============================] - 13s 14ms/step - loss: 0.3434 - accuracy: 0.8758 - val_loss: 1.5728 - val_accuracy: 0.5857\n",
            "Epoch 17/25\n",
            "898/898 [==============================] - 13s 14ms/step - loss: 0.2712 - accuracy: 0.9026 - val_loss: 1.7056 - val_accuracy: 0.5787\n",
            "Epoch 18/25\n",
            "898/898 [==============================] - 13s 14ms/step - loss: 0.2208 - accuracy: 0.9224 - val_loss: 1.9079 - val_accuracy: 0.5801\n",
            "Epoch 19/25\n",
            "898/898 [==============================] - 13s 14ms/step - loss: 0.1837 - accuracy: 0.9340 - val_loss: 1.7924 - val_accuracy: 0.6082\n",
            "Epoch 20/25\n",
            "898/898 [==============================] - 13s 14ms/step - loss: 0.1587 - accuracy: 0.9449 - val_loss: 2.3805 - val_accuracy: 0.5397\n",
            "Epoch 21/25\n",
            "898/898 [==============================] - 13s 14ms/step - loss: 0.1425 - accuracy: 0.9517 - val_loss: 2.1297 - val_accuracy: 0.6066\n",
            "Epoch 22/25\n",
            "898/898 [==============================] - 13s 14ms/step - loss: 0.1239 - accuracy: 0.9562 - val_loss: 2.0568 - val_accuracy: 0.5946\n",
            "Epoch 23/25\n",
            "898/898 [==============================] - 13s 14ms/step - loss: 0.1201 - accuracy: 0.9572 - val_loss: 2.3503 - val_accuracy: 0.5795\n",
            "Epoch 24/25\n",
            "898/898 [==============================] - 13s 14ms/step - loss: 0.1080 - accuracy: 0.9626 - val_loss: 2.2041 - val_accuracy: 0.6018\n",
            "Epoch 25/25\n",
            "898/898 [==============================] - 13s 14ms/step - loss: 0.1076 - accuracy: 0.9624 - val_loss: 2.4244 - val_accuracy: 0.5901\n"
          ],
          "name": "stdout"
        }
      ]
    },
    {
      "cell_type": "code",
      "metadata": {
        "id": "1v4C6FZWlJT6",
        "colab_type": "code",
        "colab": {}
      },
      "source": [
        "modeld.save('/content/gdrive/My Drive/WeekSeven/emotiond.h5')"
      ],
      "execution_count": 0,
      "outputs": []
    },
    {
      "cell_type": "markdown",
      "metadata": {
        "id": "Nd4V66RfTxMH",
        "colab_type": "text"
      },
      "source": [
        "## Testing our model"
      ]
    },
    {
      "cell_type": "code",
      "metadata": {
        "id": "gjNpxy_iqQ8H",
        "colab_type": "code",
        "colab": {
          "base_uri": "https://localhost:8080/",
          "height": 258
        },
        "outputId": "0c802a73-000a-4ab7-91c7-1105df55220f"
      },
      "source": [
        "!pip install google_images_download"
      ],
      "execution_count": 64,
      "outputs": [
        {
          "output_type": "stream",
          "text": [
            "Collecting google_images_download\n",
            "  Downloading https://files.pythonhosted.org/packages/18/ed/0319d30c48f3653802da8e6dcfefcea6370157d10d566ef6807cceb5ec4d/google_images_download-2.8.0.tar.gz\n",
            "Collecting selenium\n",
            "\u001b[?25l  Downloading https://files.pythonhosted.org/packages/80/d6/4294f0b4bce4de0abf13e17190289f9d0613b0a44e5dd6a7f5ca98459853/selenium-3.141.0-py2.py3-none-any.whl (904kB)\n",
            "\u001b[K     |████████████████████████████████| 911kB 52.8MB/s \n",
            "\u001b[?25hRequirement already satisfied: urllib3 in /tensorflow-2.1.0/python3.6 (from selenium->google_images_download) (1.25.7)\n",
            "Building wheels for collected packages: google-images-download\n",
            "  Building wheel for google-images-download (setup.py) ... \u001b[?25l\u001b[?25hdone\n",
            "  Created wheel for google-images-download: filename=google_images_download-2.8.0-py2.py3-none-any.whl size=14550 sha256=67b0d49d84c463d74707ed26dfaf8f67c595e9ab6231267a7f2e419f62615ef1\n",
            "  Stored in directory: /root/.cache/pip/wheels/1f/28/ad/f56e7061e1d2a9a1affe2f9c649c2570cb9198dd24ede0bbab\n",
            "Successfully built google-images-download\n",
            "Installing collected packages: selenium, google-images-download\n",
            "Successfully installed google-images-download-2.8.0 selenium-3.141.0\n"
          ],
          "name": "stdout"
        }
      ]
    },
    {
      "cell_type": "code",
      "metadata": {
        "id": "KXqVlgatppTB",
        "colab_type": "code",
        "colab": {}
      },
      "source": [
        "import os\n",
        "from google_images_download import google_images_download \n",
        "import sys"
      ],
      "execution_count": 0,
      "outputs": []
    },
    {
      "cell_type": "code",
      "metadata": {
        "id": "55IK_VtbqPgL",
        "colab_type": "code",
        "colab": {
          "base_uri": "https://localhost:8080/",
          "height": 615
        },
        "outputId": "3429f0eb-ff78-488d-825b-e5614fe0997e"
      },
      "source": [
        "# the limit of google_images_download without chromedriver is 100 item per keywords \n",
        "response = google_images_download.googleimagesdownload()\n",
        "\n",
        "arguments = [{\"keywords\"     : 'asian male disgust face',\n",
        "             \"limit\"        : 5,\n",
        "             \"print_urls\"   : True,\n",
        "             \"size\"         : \">2MP\",},\n",
        "             \n",
        "             {\"keywords\"     : 'asian female disgust face',\n",
        "             \"limit\"        : 5,\n",
        "             \"print_urls\"   : True,\n",
        "             \"size\"         : \">2MP\"}]\n",
        "for argument in arguments: \n",
        "    paths = response.download(argument)"
      ],
      "execution_count": 66,
      "outputs": [
        {
          "output_type": "stream",
          "text": [
            "\n",
            "Item no.: 1 --> Item name = asian male disgust face\n",
            "Evaluating...\n",
            "Starting Download...\n",
            "Image URL: https://marketplace.canva.com/MADaExVtxkE/1/screen_2x/canva-headshot-photo-of-asian-man-with-hate-and-disgusting-face.-on-grey-background.-MADaExVtxkE.jpg\n",
            "Completed Image ====> 1.canva-headshot-photo-of-asian-man-with-hate-and-disgusting-face.-on-grey-background.-MADaExVtxkE.jpg\n",
            "Image URL: https://st4.depositphotos.com/5192617/21296/i/1600/depositphotos_212968022-stock-photo-headshot-photo-asian-man-hate.jpg\n",
            "Completed Image ====> 2.depositphotos_212968022-stock-photo-headshot-photo-asian-man-hate.jpg\n",
            "Image URL: https://thumbs.dreamstime.com/z/funny-asian-man-lazy-bored-mocking-face-portrait-young-attractive-showing-disgust-unhappy-expression-145456178.jpg\n",
            "Completed Image ====> 3.funny-asian-man-lazy-bored-mocking-face-portrait-young-attractive-showing-disgust-unhappy-expression-145456178.jpg\n",
            "Image URL: https://video-images.vice.com/articles/5b5b68f8d736970006757f02/lede/1532721082758-wenwen.jpeg?crop=0.9795555555555555xw%3A1xh%3Bcenter%2Ccenter&resize=2000%3A*\n",
            "Completed Image ====> 4.1532721082758-wenwen.jpeg\n",
            "Image URL: https://miro.medium.com/max/4000/0*qk9hP87Ya386N7U5.jpg\n",
            "Completed Image ====> 5.0*qk9hP87Ya386N7U5.jpg\n",
            "\n",
            "Errors: 0\n",
            "\n",
            "\n",
            "Item no.: 1 --> Item name = asian female disgust face\n",
            "Evaluating...\n",
            "Starting Download...\n",
            "Image URL: https://st4.depositphotos.com/1049680/21148/i/1600/depositphotos_211489942-stock-photo-young-asian-woman-isolated-background.jpg\n",
            "Completed Image ====> 1.depositphotos_211489942-stock-photo-young-asian-woman-isolated-background.jpg\n",
            "Image URL: https://st4.depositphotos.com/1049680/21913/i/1600/depositphotos_219137146-stock-photo-young-asian-woman-isolated-background.jpg\n",
            "Completed Image ====> 2.depositphotos_219137146-stock-photo-young-asian-woman-isolated-background.jpg\n",
            "Image URL: https://thumbs.dreamstime.com/z/beautiful-middle-aged-woman-crossed-arms-twists-her-face-disgust-asian-shows-disapproval-twisting-lips-crossing-147824705.jpg\n",
            "Completed Image ====> 3.beautiful-middle-aged-woman-crossed-arms-twists-her-face-disgust-asian-shows-disapproval-twisting-lips-crossing-147824705.jpg\n",
            "Image URL: https://st4.depositphotos.com/1049680/21055/i/1600/depositphotos_210554880-stock-photo-young-chinese-woman-isolated-background.jpg\n",
            "Completed Image ====> 4.depositphotos_210554880-stock-photo-young-chinese-woman-isolated-background.jpg\n",
            "Image URL: https://thumbs.dreamstime.com/z/portrait-young-shocked-surprised-beautiful-asian-korean-woman-covering-mouth-hand-disbelief-surprise-face-136248484.jpg\n",
            "Completed Image ====> 5.portrait-young-shocked-surprised-beautiful-asian-korean-woman-covering-mouth-hand-disbelief-surprise-face-136248484.jpg\n",
            "\n",
            "Errors: 0\n",
            "\n"
          ],
          "name": "stdout"
        }
      ]
    },
    {
      "cell_type": "code",
      "metadata": {
        "id": "SoU5ggf6dWov",
        "colab_type": "code",
        "colab": {}
      },
      "source": [
        "#function for drawing bar chart for emotion preditions\n",
        "def emotion_analysis(emotions):\n",
        "    objects = ('angry', 'disgust', 'fear', 'happy', 'sad', 'surprise', 'neutral')\n",
        "    y_pos = np.arange(len(objects))\n",
        "    \n",
        "    plt.bar(y_pos, emotions, align='center', alpha=0.5)\n",
        "    plt.xticks(y_pos, objects)\n",
        "    plt.ylabel('percentage')\n",
        "    plt.title('emotion')\n",
        "    \n",
        "    plt.show()"
      ],
      "execution_count": 0,
      "outputs": []
    },
    {
      "cell_type": "code",
      "metadata": {
        "id": "13-q6hthiuQU",
        "colab_type": "code",
        "colab": {}
      },
      "source": [
        "\n",
        "monitor_testset_results = False\n",
        "\n",
        "if monitor_testset_results == True:\n",
        "\t#make predictions for test set\n",
        "\tpredictions = model.predict(x_test)\n",
        "\n",
        "\tindex = 0\n",
        "\tfor i in predictions:\n",
        "\t\tif index < 30 and index >= 20:\n",
        "\t\t\t#print(i) #predicted scores\n",
        "\t\t\t#print(y_test[index]) #actual scores\n",
        "\t\t\t\n",
        "\t\t\ttesting_img = np.array(x_test[index], 'float32')\n",
        "\t\t\ttesting_img = testing_img.reshape([48, 48]);\n",
        "\t\t\t\n",
        "\t\t\tplt.gray()\n",
        "\t\t\tplt.imshow(testing_img)\n",
        "\t\t\tplt.show()\n",
        "\t\t\t\n",
        "\t\t\tprint(i)\n",
        "\t\t\t\n",
        "\t\t\temotion_analysis(i)\n",
        "\t\t\tprint(\"----------------------------------------------\")\n",
        "\t\tindex = index + 1"
      ],
      "execution_count": 0,
      "outputs": []
    },
    {
      "cell_type": "code",
      "metadata": {
        "id": "5FYW-YMkmxuT",
        "colab_type": "code",
        "colab": {
          "base_uri": "https://localhost:8080/",
          "height": 119
        },
        "outputId": "c28680d1-e1e7-42d4-e278-9c85d3fd4a1d"
      },
      "source": [
        "# We show how the library load our image\n",
        "img = image.load_img(\"/content/gdrive/My Drive/WeekSeven/KA.DI2.43.tiff\", grayscale=True, target_size=(48, 48))\n",
        "img"
      ],
      "execution_count": 62,
      "outputs": [
        {
          "output_type": "stream",
          "text": [
            "/tensorflow-2.1.0/python3.6/keras_preprocessing/image/utils.py:104: UserWarning: grayscale is deprecated. Please use color_mode = \"grayscale\"\n",
            "  warnings.warn('grayscale is deprecated. Please use '\n"
          ],
          "name": "stderr"
        },
        {
          "output_type": "execute_result",
          "data": {
            "image/png": "[encoded data removed]",
            "text/plain": [
              "<PIL.Image.Image image mode=L size=48x48 at 0x7FE4D03531D0>"
            ]
          },
          "metadata": {
            "tags": []
          },
          "execution_count": 62
        }
      ]
    },
    {
      "cell_type": "code",
      "metadata": {
        "id": "m9Iaflvxma6i",
        "colab_type": "code",
        "colab": {
          "base_uri": "https://localhost:8080/",
          "height": 585
        },
        "outputId": "75c70ec6-b98c-4f76-f738-749ba09014b6"
      },
      "source": [
        "from tensorflow.keras.preprocessing import image\n",
        "\n",
        "img = image.load_img(\"./downloads/asian female disgust face/5.portrait-young-shocked-surprised-beautiful-asian-korean-woman-covering-mouth-hand-disbelief-surprise-face-136248484.jpg\", grayscale=True, target_size=(48, 48))\n",
        "#Convert to array\n",
        "x = image.img_to_array(img)\n",
        "x = np.expand_dims(x, axis = 0)\n",
        "#Normalize\n",
        "x /= 255\n",
        "#Predict\n",
        "custom = model.predict(x)\n",
        "emotion_analysis(custom[0])\n",
        "\n",
        "x = np.array(x, 'float32')\n",
        "x = x.reshape([48, 48]);\n",
        "\n",
        "plt.gray()\n",
        "plt.imshow(x)\n",
        "plt.show()"
      ],
      "execution_count": 71,
      "outputs": [
        {
          "output_type": "stream",
          "text": [
            "/tensorflow-2.1.0/python3.6/keras_preprocessing/image/utils.py:104: UserWarning: grayscale is deprecated. Please use color_mode = \"grayscale\"\n",
            "  warnings.warn('grayscale is deprecated. Please use '\n"
          ],
          "name": "stderr"
        },
        {
          "output_type": "display_data",
          "data": {
            "image/png": "[encoded data removed]",
            "text/plain": [
              "<Figure size 432x288 with 1 Axes>"
            ]
          },
          "metadata": {
            "tags": []
          }
        },
        {
          "output_type": "display_data",
          "data": {
            "image/png": "[encoded data removed]",
            "text/plain": [
              "<Figure size 432x288 with 1 Axes>"
            ]
          },
          "metadata": {
            "tags": []
          }
        }
      ]
    },
    {
      "cell_type": "markdown",
      "metadata": {
        "id": "UZPVgw6Ita2n",
        "colab_type": "text"
      },
      "source": [
        "## Try a different model"
      ]
    },
    {
      "cell_type": "markdown",
      "metadata": {
        "id": "B6DBdCZ7UTr1",
        "colab_type": "text"
      },
      "source": [
        "Different models that we have tried"
      ]
    },
    {
      "cell_type": "code",
      "metadata": {
        "id": "wuO06r5PY8aW",
        "colab_type": "code",
        "colab": {}
      },
      "source": [
        "#construct CNN structure\n",
        "def CNN():\n",
        "    model = tf.keras.models.Sequential([\n",
        "            #1st convolution layer\n",
        "            Conv2D(64, (5, 5), activation='relu', input_shape=(48,48,1)),\n",
        "            MaxPooling2D(pool_size=(5,5), strides=(2, 2)),\n",
        "\n",
        "            #2nd convolution layer\n",
        "            Conv2D(64, (3, 3), activation='relu'),\n",
        "            Conv2D(64, (3, 3), activation='relu'),\n",
        "            AveragePooling2D(pool_size=(3,3), strides=(2, 2)),\n",
        "\n",
        "            #3rd convolution layer\n",
        "            Conv2D(128, (3, 3), activation='relu'),\n",
        "            Conv2D(128, (3, 3), activation='relu'),\n",
        "            AveragePooling2D(pool_size=(3,3), strides=(2, 2)),\n",
        "\n",
        "            Flatten(),\n",
        "\n",
        "            #fully connected neural networks\n",
        "            Dense(1024, activation='relu'),\n",
        "            Dropout(0.2),\n",
        "            Dense(1024, activation='relu'),\n",
        "            Dropout(0.2),\n",
        "\n",
        "            Dense(num_classes, activation='softmax'),\n",
        "            ])\n",
        "    return model\n",
        "\n",
        "model = CNN()"
      ],
      "execution_count": 0,
      "outputs": []
    },
    {
      "cell_type": "code",
      "metadata": {
        "id": "3iKPjpiiqx6R",
        "colab_type": "code",
        "colab": {}
      },
      "source": [
        "def CNNb():\n",
        "    model = tf.keras.models.Sequential([\n",
        "            #1st convolution layer\n",
        "            Conv2D(64, (3, 3), activation='relu', input_shape=(48,48,1)),\n",
        "            BatchNormalization(),\n",
        "            MaxPooling2D(pool_size=(3,3), strides=(2, 2)),\n",
        "\n",
        "            #2nd convolution layer\n",
        "            Conv2D(128, (3, 3), activation='relu'),\n",
        "            BatchNormalization(),\n",
        "            MaxPooling2D(pool_size=(3,3), strides=(2, 2)),\n",
        "\n",
        "            #3rd convolution layer\n",
        "            Conv2D(256, (3, 3), activation='relu'),\n",
        "            BatchNormalization(),\n",
        "            MaxPooling2D(pool_size=(3,3), strides=(2, 2)),\n",
        "       \n",
        "            #fully connected neural networks\n",
        "            Dropout(0.2),\n",
        "            Dense(4096, activation='relu'),\n",
        "            Dropout(0.2),\n",
        "            Dense(1024, activation='relu'),\n",
        "            BatchNormalization(),\n",
        "\n",
        "            Dense(num_classes, activation='softmax'),\n",
        "            ])\n",
        "    return model\n",
        "\n",
        "modelb = CNNb()"
      ],
      "execution_count": 0,
      "outputs": []
    },
    {
      "cell_type": "code",
      "metadata": {
        "id": "uX8DdXdhvcou",
        "colab_type": "code",
        "colab": {}
      },
      "source": [
        "#Compile model\n",
        "modelb.compile(optimizer=tf.keras.optimizers.Adam(),\n",
        "              loss='sparse_categorical_crossentropy',\n",
        "              metrics=['accuracy'])"
      ],
      "execution_count": 0,
      "outputs": []
    },
    {
      "cell_type": "code",
      "metadata": {
        "id": "MrhiuhrFvRd8",
        "colab_type": "code",
        "colab": {}
      },
      "source": [
        "modelb.fit(train_generator, steps_per_epoch=num_steps_train, epochs=20, validation_data=test_generator, validation_steps=num_steps_val) #train for randomly selected one\n"
      ],
      "execution_count": 0,
      "outputs": []
    },
    {
      "cell_type": "code",
      "metadata": {
        "id": "4Vn8uz9Fva4J",
        "colab_type": "code",
        "colab": {}
      },
      "source": [
        ""
      ],
      "execution_count": 0,
      "outputs": []
    }
  ]
}